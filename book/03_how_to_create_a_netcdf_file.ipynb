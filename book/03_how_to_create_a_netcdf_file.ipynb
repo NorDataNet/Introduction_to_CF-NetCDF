{
 "cells": [
  {
   "cell_type": "markdown",
   "id": "c551f40a-8171-4342-b705-24173cd1ea7d",
   "metadata": {},
   "source": [
    "# How to create a CF-NetCDF file\n",
    "\n",
    "* Python, R (link to courses)\n",
    "* Rosetta (screenshots, link to software and manual)\n",
    "* MeteoIO (link to software)\n",
    "* Other tools or wizards?\n",
    "* Compliance checkers\n",
    "* Granularity in separate notebook"
   ]
  }
 ],
 "metadata": {
  "kernelspec": {
   "display_name": "Python 3 (ipykernel)",
   "language": "python",
   "name": "python3"
  },
  "language_info": {
   "codemirror_mode": {
    "name": "ipython",
    "version": 3
   },
   "file_extension": ".py",
   "mimetype": "text/x-python",
   "name": "python",
   "nbconvert_exporter": "python",
   "pygments_lexer": "ipython3",
   "version": "3.11.5"
  }
 },
 "nbformat": 4,
 "nbformat_minor": 5
}
