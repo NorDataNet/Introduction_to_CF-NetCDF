{
 "cells": [
  {
   "cell_type": "markdown",
   "id": "7e2a40c8-8983-4957-9535-7eacbf54f717",
   "metadata": {},
   "source": [
    "# How to open a NetCDF file\n",
    "\n",
    "* Panoply (link to video and software, could be better videos out there...)\n",
    "* OPeNDAP (Demonstration with screenshots)\n",
    "* Python (link to course)\n",
    "* R (link to course)"
   ]
  },
  {
   "cell_type": "code",
   "execution_count": null,
   "id": "307f7bdf-ffcb-4b2a-bd0c-3bcfdbb78a79",
   "metadata": {},
   "outputs": [],
   "source": []
  }
 ],
 "metadata": {
  "kernelspec": {
   "display_name": "Python 3 (ipykernel)",
   "language": "python",
   "name": "python3"
  },
  "language_info": {
   "codemirror_mode": {
    "name": "ipython",
    "version": 3
   },
   "file_extension": ".py",
   "mimetype": "text/x-python",
   "name": "python",
   "nbconvert_exporter": "python",
   "pygments_lexer": "ipython3",
   "version": "3.11.5"
  }
 },
 "nbformat": 4,
 "nbformat_minor": 5
}
